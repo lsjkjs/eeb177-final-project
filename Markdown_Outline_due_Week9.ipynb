{
 "cells": [
  {
   "cell_type": "markdown",
   "metadata": {},
   "source": [
    "# **Study of Aves Species through Geologic Time**"
   ]
  },
  {
   "cell_type": "markdown",
   "metadata": {},
   "source": [
    "# Introduction #\n",
    "\n",
    "Nuclear DNA sequences as well as morphological chracteristics are widely used today to study the evolutionary history of the Aves. For example, Moyle et al utilizes moleuclar and morphological data to study the Eurylaimides, the Old World bird group that is now distributed pantropically. The study discusses how the splitting of this group occurred through Laurasian climatic and geologic processes (Moyle et al, 2006). Cracraft's attempt to phylgentically classify the recent birds of the world also utilizes genetic and morphological data (Cracraft, 1981). In this study, we utilize a different approach by utilizing the occurrence data of fossil records to study the Aves species diversity through geologic time. It is known that birds have undergone a strong increase in diversification since from about 50 million years ago with 9993 extant species today (Jetz et al, 2012). Through the analsis of occurrence data, we hope to further demonstrate this knowledge of Aves diversity. \n",
    "\n",
    "**References**\n",
    "\n",
    "1. Cracraft, J. (1981). Toward a Phylogenetic Classification of the Recent Birds of the World (Class Aves). The Auk, 98(4), 681-714. Retrieved from http://www.jstor.org/stable/4085891\n",
    "\n",
    "2. Jetz, W., Thomas, G.H., Joy, J.B., Hartmann, K., and Mooers, A.O. (2012). The global diversity of birds in space and time. Nature, 491, 444-448. Retrieved from http://www.nature.com/nature/journal/v491/n7424/abs/nature11631.html\n",
    "\n",
    "3. Moyle, R.G., Chesser R.T., Prum, R.O., Schikler, P., and Cracraft J. (2006). Phylogeny and Evolutionary History of Old World Suboscine Birds (Aves: Eurylaimides). American Museum of Natural History, 3544, 1-22. Retrieved from http://www.bioone.org/doi/abs/10.1206/0003-0082(2006)3544%5B1:PAEHOO%5D2.0.CO;2\n"
   ]
  },
  {
   "cell_type": "code",
   "execution_count": 10,
   "metadata": {
    "collapsed": true
   },
   "outputs": [],
   "source": [
    "# The function Lists_rank makes a list of the unique species, genus, class, family, or order\n",
    "\n",
    "def Lists_rank(rank_name):\n",
    "    rank_name = rank_name.lower()\n",
    "    Aves_rank = [] #define list\n",
    "    file = open(\"A_formatted.csv\", \"r\") #open file\n",
    "    all_records = file.readlines()\n",
    "    for line in all_records:\n",
    "        record_elements = line.split(\",\") #split elements by delimiter comma\n",
    "        if record_elements[6].lower() == rank_name: #if the element in column 7 is the rank of interest, append to list\n",
    "            Aves_rank.append(record_elements[5])\n",
    "    return Aves_rank"
   ]
  },
  {
   "cell_type": "code",
   "execution_count": 11,
   "metadata": {
    "collapsed": true
   },
   "outputs": [],
   "source": [
    "# This function inputs the Aves name and outputs its geologic time data as the average of max and min ma\n",
    "\n",
    "def geotime_ma(Ave_name):\n",
    "    Ave_name = Ave_name.lower()\n",
    "    file = open(\"A_formatted.csv\", \"r\") #open file\n",
    "    all_records = file.readlines()\n",
    "    for line in all_records:\n",
    "        record_elements = line.split(\",\") #split elements by the delimiter\n",
    "        if record_elements[5].lower() == Ave_name: #if the element is the Ave of interes, find max and min ma\n",
    "            maxage = record_elements[10][1:-1]\n",
    "            minage = record_elements[11][1:-1]\n",
    "            break\n",
    "    average = ((float(maxage)+float(minage))/2) #find and return the average ma\n",
    "    return average\n"
   ]
  },
  {
   "cell_type": "code",
   "execution_count": 14,
   "metadata": {
    "collapsed": false
   },
   "outputs": [],
   "source": [
    "#Finding the earliest and latest appearance of species in the Aves clade\n",
    "\n",
    "#open the Aves pbdb data file    \n",
    "infile = \"A_formatted.csv\"\n",
    "with open(infile, \"r\") as ff:\n",
    "    Aves_recs = ff.readlines()\n",
    "\n",
    "#use defaultdict\n",
    "from collections import defaultdict\n",
    "\n",
    "Aves_ranges = defaultdict(list) #dict is initialized as a list\n",
    "\n",
    "#make a dictionary\n",
    "for line in Aves_recs:\n",
    "    record_elements = line.split(\",\") #split elements by delimiter comma\n",
    "    if record_elements[6].lower() == \"species\": #if the record is species\n",
    "        species = line.split(\",\")[5][1:-1] #removes the quotes\n",
    "        minage = line.split(\",\")[10][1:-1] #removes the quotes\n",
    "        maxage = line.split(\",\")[11][1:-1] #removes the quotes\n",
    "        mean_age = (float(minage) + float(maxage))/2\n",
    "        Aves_ranges[species].append(mean_age) #add species as key and mean ages as elements to the list of ages"
   ]
  },
  {
   "cell_type": "code",
   "execution_count": 15,
   "metadata": {
    "collapsed": false
   },
   "outputs": [],
   "source": [
    "output = open(\"output_Aves.csv\", \"w\")\n",
    "\n",
    "#get the oldest and youngest ages of fossils for each species in species_ranges\n",
    "for key in Aves_ranges:\n",
    "    ages = Aves_ranges[key]\n",
    "    minage = min(ages)\n",
    "    maxage = max(ages)\n",
    "    genus = key.split(\" \")[0]\n",
    "    outline = \"{}, {}, {}, {}\\n\".format(genus, key, minage, maxage) #output the genus, speices, minage, maxage information in output file\n",
    "    output.write(outline)\n"
   ]
  },
  {
   "cell_type": "markdown",
   "metadata": {
    "collapsed": false
   },
   "source": [
    "** Used R to plot each species and its min and max age range\n",
    "\n",
    "link to github containing the md file:\n",
    "    \n",
    "     https://github.com/lsjkjs/eeb177-final-project/blob/b3371fc638b13359b0272965ff9f0aa8b4efda03/plot_Aves.md \n",
    "    \n",
    "From the figure we can identify that some of the species were alive for a very long time while others lasted only shortly.\n"
   ]
  },
  {
   "cell_type": "code",
   "execution_count": 19,
   "metadata": {
    "collapsed": false
   },
   "outputs": [
    {
     "data": {
      "text/plain": [
       "'\\nLists_rank(\"species\") #put all species in a list\\nlen(dict_species) #find length of species\\n\\nLists_rank(\"genera\")\\nlen(dict_genera)\\n\\nLists_rank(\"class\")\\nlen(dict_class)\\n\\nLists_rank(\"family\")\\nlen(dict_family)\\n\\n'"
      ]
     },
     "execution_count": 19,
     "metadata": {},
     "output_type": "execute_result"
    }
   ],
   "source": [
    "# Utilizing the functions above, find the number of unique species, genus, class, and family\n",
    "# Pseudocode\n",
    "\"\"\"\n",
    "Lists_rank(\"species\") #put all species in a list\n",
    "len(dict_species) #find length of species\n",
    "\n",
    "Lists_rank(\"genera\")\n",
    "len(dict_genera)\n",
    "\n",
    "Lists_rank(\"class\")\n",
    "len(dict_class)\n",
    "\n",
    "Lists_rank(\"family\")\n",
    "len(dict_family)\n",
    "\n",
    "\"\"\""
   ]
  },
  {
   "cell_type": "markdown",
   "metadata": {
    "collapsed": false
   },
   "source": [
    "# **Questions to answer / Points to discuss**\n",
    "\n",
    "During which time interval are there the most species? (maybe do a cumulative frequency graph)\n",
    "\n",
    "Identify some of the main species/genera that lasted for a very long time.\n",
    "\n",
    "Look into articles of how may have caused the speciation/extinction.\n",
    "\n"
   ]
  },
  {
   "cell_type": "code",
   "execution_count": null,
   "metadata": {
    "collapsed": true
   },
   "outputs": [],
   "source": []
  },
  {
   "cell_type": "code",
   "execution_count": null,
   "metadata": {
    "collapsed": true
   },
   "outputs": [],
   "source": []
  }
 ],
 "metadata": {
  "anaconda-cloud": {},
  "kernelspec": {
   "display_name": "Python [default]",
   "language": "python",
   "name": "python3"
  },
  "language_info": {
   "codemirror_mode": {
    "name": "ipython",
    "version": 3
   },
   "file_extension": ".py",
   "mimetype": "text/x-python",
   "name": "python",
   "nbconvert_exporter": "python",
   "pygments_lexer": "ipython3",
   "version": "3.5.2"
  }
 },
 "nbformat": 4,
 "nbformat_minor": 2
}
