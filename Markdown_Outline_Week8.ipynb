{
 "cells": [
  {
   "cell_type": "markdown",
   "metadata": {},
   "source": [
    "# **Study of Aves Species through Geologic Time**"
   ]
  },
  {
   "cell_type": "markdown",
   "metadata": {},
   "source": [
    "# Introduction #\n",
    "\n",
    "Nuclear DNA sequences as well as morphological chracteristics are widely used today to study the evolutionary history of the Aves. For example, Moyle et al utilizes moleuclar and morphological data to study the Eurylaimides, the Old World bird group that is now distributed pantropically. The study discusses how the splitting of this group occurred through Laurasian climatic and geologic processes (Moyle et al, 2006). Cracraft's attempt to phylgentically classify the recent birds of the world also utilizes genetic and morphological data (Cracraft, 1981). In this study, we utilize a different approach by utilizing the occurrence data of fossil records to study the Aves species diversity through geologic time. It is known that birds have undergone a strong increase in diversification since from about 50 million years ago with 9993 extant species today (Jetz et al, 2012). Through the analsis of occurrence data, we hope to further demonstrate this knowledge of Aves diversity. \n",
    "\n",
    "**References**\n",
    "\n",
    "1. Cracraft, J. (1981). Toward a Phylogenetic Classification of the Recent Birds of the World (Class Aves). The Auk, 98(4), 681-714. Retrieved from http://www.jstor.org/stable/4085891\n",
    "\n",
    "2. Jetz, W., Thomas, G.H., Joy, J.B., Hartmann, K., and Mooers, A.O. (2012). The global diversity of birds in space and time. Nature, 491, 444-448. Retrieved from http://www.nature.com/nature/journal/v491/n7424/abs/nature11631.html\n",
    "\n",
    "3. Moyle, R.G., Chesser R.T., Prum, R.O., Schikler, P., and Cracraft J. (2006). Phylogeny and Evolutionary History of Old World Suboscine Birds (Aves: Eurylaimides). American Museum of Natural History, 3544, 1-22. Retrieved from http://www.bioone.org/doi/abs/10.1206/0003-0082(2006)3544%5B1:PAEHOO%5D2.0.CO;2\n",
    "\n"
   ]
  },
  {
   "cell_type": "code",
   "execution_count": 2,
   "metadata": {
    "collapsed": false
   },
   "outputs": [],
   "source": [
    "# The function Lists_rank makes a list of the unique species, genus, class, family, or order\n",
    "\n",
    "def Lists_rank(rank_name):\n",
    "    rank_name = rank_name.lower()\n",
    "    Aves_rank = [] #define list\n",
    "    file = open(\"Aves_pbdb_data.csv\", \"r\") #open file\n",
    "    all_records = file.readlines()[17:] #read file starting line 18\n",
    "    for line in all_records:\n",
    "        record_elements = line.split(\",\") #split elements by delimiter comma\n",
    "        if record_elements[6].lower() == rank_name: #if the element in column 7 is the rank of interest, append to list\n",
    "            Aves_rank.append(record_elements[5])\n",
    "    return Aves_rank\n"
   ]
  },
  {
   "cell_type": "code",
   "execution_count": 3,
   "metadata": {
    "collapsed": true
   },
   "outputs": [],
   "source": [
    "# This function inputs the Aves name and outputs its geologic time data as the average of max and min ma\n",
    "\n",
    "def geotime_ma(Ave_name):\n",
    "    Ave_name = Ave_name.lower()\n",
    "    file = open(\"Aves_pbdb_data.csv\", \"r\") #open file\n",
    "    all_records = file.readlines()[17:]\n",
    "    for line in all_records:\n",
    "        record_elements = line.split(\",\") #split elements by the delimiter\n",
    "        if record_elements[5].lower() == Ave_name: #if the element is the Ave of interes, find max and min ma\n",
    "            max = record_elements[14][1:-1]\n",
    "            min = record_elements[15][1:-1]\n",
    "            break\n",
    "    average = ((float(max)+float(min))/2) #find and return the average ma\n",
    "    return average\n"
   ]
  },
  {
   "cell_type": "code",
   "execution_count": 4,
   "metadata": {
    "collapsed": false
   },
   "outputs": [
    {
     "data": {
      "image/png": "[encoded data removed]",
      "text/plain": [
       "<matplotlib.figure.Figure at 0x7f9ed020fda0>"
      ]
     },
     "metadata": {},
     "output_type": "display_data"
    }
   ],
   "source": [
    "#Plot a figure with x as the species name and y as the geological time (as ma)\n",
    "\n",
    "import matplotlib.pyplot as plt\n",
    "list = Lists_rank('\"species\"')\n",
    "species = [] #define x-axis\n",
    "a = len(species)\n",
    "for i in range(0, a):\n",
    "    species.append(list[i][1:-1])\n",
    "time = [] #define list (y-axis)\n",
    "for Ave in species:\n",
    "    time.append(geotime_ma(Ave))\n",
    "b = []\n",
    "for i in range(0,a):\n",
    "    b.append(i+1)\n",
    "plt.bar(b, time, align = 'center')\n",
    "plt.xticks(b, species)\n",
    "plt.show()"
   ]
  },
  {
   "cell_type": "code",
   "execution_count": null,
   "metadata": {
    "collapsed": true
   },
   "outputs": [],
   "source": [
    "# Pseudocode\n",
    "\"\"\"\n",
    "If the plot at python doesn't work, plot it using R studio\n",
    "(Figure with x as the species name and y as the geological time (as ma))\n",
    "\n",
    "#Way to do it in R\n",
    "\n",
    "#Open the file\n",
    "file = open(\"Aves_pbdb_data.csv\", \"r\") #open file\n",
    "    all_records = file.readlines()[17:]\n",
    "\n",
    "#use defaultdict\n",
    "from collections import defaultdict\n",
    "\n",
    "species_ranges = defaultdict(list) #dict is initialized as a list\n",
    "for line in all_records:\n",
    "    extract species \n",
    "    extract minage\n",
    "    extract maxage\n",
    "    find average age\n",
    "    species_ranges[species].append(average_age) #add species as key and average age as values\n",
    "    \n",
    "#output a file containing species, minage, and maxage\n",
    "\n",
    "output = open(\"output.csv\", \"w\")\n",
    "    for key in species_ranges.keys():\n",
    "    find the minage of the species\n",
    "    find the maxage of the species\n",
    "    output species, minage, maxage as a csv file\n",
    "\n",
    "#use Rstudio to plot the species and the minage and maxage range \n",
    "\"\"\""
   ]
  }
 ],
 "metadata": {
  "anaconda-cloud": {},
  "kernelspec": {
   "display_name": "Python [default]",
   "language": "python",
   "name": "python3"
  },
  "language_info": {
   "codemirror_mode": {
    "name": "ipython",
    "version": 3
   },
   "file_extension": ".py",
   "mimetype": "text/x-python",
   "name": "python",
   "nbconvert_exporter": "python",
   "pygments_lexer": "ipython3",
   "version": "3.5.2"
  }
 },
 "nbformat": 4,
 "nbformat_minor": 2
}
