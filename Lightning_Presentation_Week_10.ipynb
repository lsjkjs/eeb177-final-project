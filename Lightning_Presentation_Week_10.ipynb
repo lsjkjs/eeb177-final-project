{
 "cells": [
  {
   "cell_type": "markdown",
   "metadata": {},
   "source": [
    "# **Study of Aves Species through Geologic Time**"
   ]
  },
  {
   "cell_type": "markdown",
   "metadata": {
    "collapsed": true
   },
   "source": [
    "![Aves](Aves.jpeg)\n"
   ]
  },
  {
   "cell_type": "markdown",
   "metadata": {},
   "source": [
    "**The fossil occurrences of each Aves species through time**\n",
    "\n",
    "Since the Aves pbdb data includes multiple observations of the same species at different time intervals, we will find the the first and last appearances of each species in the record and output this in a file."
   ]
  },
  {
   "cell_type": "code",
   "execution_count": 7,
   "metadata": {
    "collapsed": true
   },
   "outputs": [],
   "source": [
    "#First, find the age of each species occurrence \n",
    "\n",
    "#open the Aves pbdb data file    \n",
    "infile = \"A_formatted.csv\"\n",
    "with open(infile, \"r\") as ff:\n",
    "    Aves_recs = ff.readlines()\n",
    "\n",
    "#use defaultdict\n",
    "from collections import defaultdict\n",
    "\n",
    "Aves_ranges = defaultdict(list) #dict is initialized as a list\n",
    "\n",
    "#make a dictionary\n",
    "for line in Aves_recs:\n",
    "    record_elements = line.split(\",\") #split elements by delimiter comma\n",
    "    if record_elements[6].lower() == '\"species\"': #if the record is species\n",
    "        species = line.split(\",\")[5][1:-1] #removes the quotes\n",
    "        minage = line.split(\",\")[10][1:-1] #removes the quotes\n",
    "        maxage = line.split(\",\")[11][1:-1] #removes the quotes\n",
    "        mean_age = (float(minage) + float(maxage))/2\n",
    "        Aves_ranges[species].append(mean_age) #add species as key and mean ages as elements to the list of ages"
   ]
  },
  {
   "cell_type": "code",
   "execution_count": 8,
   "metadata": {
    "collapsed": false
   },
   "outputs": [],
   "source": [
    "output = open(\"output_Aves.csv\", \"w\")\n",
    "\n",
    "#output the oldest and youngest ages of fossils for each species in species_ranges\n",
    "for key in Aves_ranges:\n",
    "    ages = Aves_ranges[key]\n",
    "    minage = min(ages)\n",
    "    maxage = max(ages)\n",
    "    genus = key.split(\" \")[0]\n",
    "    outline = \"{}, {}, {}, {}\\n\".format(genus, key, minage, maxage) #output the genus, speices, minage, maxage information in output file\n",
    "    output.write(outline)\n"
   ]
  },
  {
   "cell_type": "markdown",
   "metadata": {},
   "source": [
    "![This is a plot of the Aves species ranges](Aves_species_ranges.png)"
   ]
  },
  {
   "cell_type": "markdown",
   "metadata": {},
   "source": [
    "# Question to investigate #\n",
    "\n",
    "** What are some of the species with very long ranges and where are they located? **\n",
    "\n",
    "** I will investigate two species with the longest first and last occurrence ranges **\n"
   ]
  },
  {
   "cell_type": "code",
   "execution_count": 9,
   "metadata": {
    "collapsed": true
   },
   "outputs": [],
   "source": [
    "# This function returns a dictionary with the key as species and the value as its range of age \n",
    "\n",
    "def find_range(dict_name, dict_range):\n",
    "    for key in dict_name.keys():\n",
    "        ages = dict_name[key]\n",
    "        range1 = max(ages)-min(ages) #find range of age\n",
    "        dict_range[key] = range1 #for species as key, put range as value in dictionary\n",
    "   "
   ]
  },
  {
   "cell_type": "code",
   "execution_count": 10,
   "metadata": {
    "collapsed": false
   },
   "outputs": [
    {
     "name": "stdout",
     "output_type": "stream",
     "text": [
      "[('Uhangrichnus chuni', 34.900000000000006), ('Pelecanus tirarensis', 19.99815)]\n"
     ]
    }
   ],
   "source": [
    "# Using the function above, put the range age of each Aves species in a dictionary\n",
    "\n",
    "Aves_range_age = {} #define dictionary \n",
    "find_range(Aves_ranges, Aves_range_age) #put in the dictionary with  Aves species as key and the range age of the species as value\n",
    "\n",
    "# I want to find the two species with the longest first and last occurrence ranges\n",
    "# sort this dictionary from largest range to smallest range\n",
    "# in order to do so, sort by the value of the dictionary\n",
    "items = [(v, k) for k, v in Aves_range_age.items()] #switch key and value for sorting\n",
    "items.sort()\n",
    "items.reverse() #largest to smallest\n",
    "items = [(k, v) for v, k in items] #swith key and value again\n",
    "print(items[:2])\n"
   ]
  },
  {
   "cell_type": "markdown",
   "metadata": {
    "collapsed": false
   },
   "source": [
    "**The two species with the largest ranges are Uhangrichnus chuni and Pelecanus tirarensis**"
   ]
  },
  {
   "cell_type": "code",
   "execution_count": 27,
   "metadata": {
    "collapsed": true
   },
   "outputs": [],
   "source": [
    "# map these two species \n",
    "# First output a csv file with the longitude and latitude data points for Uhangrichnus chuni\n",
    "\n",
    "\n",
    "#open the Aves location pbdb data file    \n",
    "infile = \"A_location.csv\"\n",
    "with open(infile, \"r\") as fff:\n",
    "    Aves_loc = fff.readlines()\n",
    "\n",
    "output = open(\"chuni_location.csv\", \"w\")\n",
    "    #output longitude and latitude data for uhangrichnus chuni\n",
    "\n",
    "for line in Aves_loc:\n",
    "    record_elements = line.split(\",\") #split elements by delimiter comma\n",
    "    if record_elements[5].lower() == '\"uhangrichnus chuni\"': #if the record is uhangrichnus chuni\n",
    "        species = line.split('\",\"')[5] #removes the quotes/ define species\n",
    "        longitude = line.split('\",\"')[13] #removes the quotes/ define longitude\n",
    "        latitude = line.split('\",\"')[14] #removes the quotes/ define latitude\n",
    "        outline = \"{}, {}, {}\\n\".format(species, longitude, latitude) #output the species, longitude, latitude data\n",
    "        output.write(outline)"
   ]
  },
  {
   "cell_type": "code",
   "execution_count": null,
   "metadata": {
    "collapsed": false
   },
   "outputs": [],
   "source": [
    "# Do the same for Pelecanus tirarensis\n",
    "\n",
    "\n",
    "#open the Aves location pbdb data file    \n",
    "infile = \"A_location.csv\"\n",
    "with open(infile, \"r\") as fff:\n",
    "    Aves_loc = fff.readlines()\n",
    "\n",
    "output = open(\"tirarensis_location.csv\", \"w\")\n",
    "    #output longitude and latitude data for pelecanus tirarensis\n",
    "\n",
    "for line in Aves_loc:\n",
    "    record_elements = line.split(\",\") #split elements by delimiter comma\n",
    "    if record_elements[5].lower() == '\"pelecanus tirarensis\"': #if the record is pelecanus tirarensis\n",
    "        species = line.split('\",\"')[5][1:-1] #removes the quotes/ define species\n",
    "        longitude = line.split('\",\"')[13][1:-1] #removes the quotes/ define longitude\n",
    "        latitude = line.split('\",\"')[14][1:-1] #removes the quotes/ define latitude\n",
    "        outline = \"{}, {}, {}\\n\".format(species, longitude, latitude) #output the species, longitude, latitude data\n",
    "        output.write(outline)\n"
   ]
  },
  {
   "cell_type": "markdown",
   "metadata": {},
   "source": [
    "** Utilizing R and the longitudinal and latitudinal data, I plotted the data points on the map **"
   ]
  },
  {
   "cell_type": "markdown",
   "metadata": {
    "collapsed": true
   },
   "source": [
    "![This is a map containing the two species](Both_species_location.png)"
   ]
  },
  {
   "cell_type": "markdown",
   "metadata": {
    "collapsed": false
   },
   "source": [
    "![This is a map of the uhangrichnus chuni](chuni_location.png)"
   ]
  },
  {
   "cell_type": "markdown",
   "metadata": {
    "collapsed": true
   },
   "source": [
    "![This is a map of the pelecanus tirarensis](tirarensis_location.png)"
   ]
  },
  {
   "cell_type": "markdown",
   "metadata": {},
   "source": [
    "** I found that the species are very narrowly ranged in terms of location. **"
   ]
  },
  {
   "cell_type": "markdown",
   "metadata": {},
   "source": [
    "github link: "
   ]
  }
 ],
 "metadata": {
  "anaconda-cloud": {},
  "kernelspec": {
   "display_name": "Python [default]",
   "language": "python",
   "name": "python3"
  },
  "language_info": {
   "codemirror_mode": {
    "name": "ipython",
    "version": 3
   },
   "file_extension": ".py",
   "mimetype": "text/x-python",
   "name": "python",
   "nbconvert_exporter": "python",
   "pygments_lexer": "ipython3",
   "version": "3.5.2"
  }
 },
 "nbformat": 4,
 "nbformat_minor": 2
}
