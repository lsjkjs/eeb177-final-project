{
 "cells": [
  {
   "cell_type": "code",
   "execution_count": null,
   "metadata": {
    "collapsed": false
   },
   "outputs": [],
   "source": [
    "#use R and geoscalePlot library to plot the diversity of Aves through time\n",
    "#also input timescale\n",
    "\n",
    "import geoscalePlot\n",
    "xx = Geological time (Ma)\n",
    "yy = Number of species \n",
    "output geoscaleplot(xx, yy, units)\n",
    "\n",
    "#use R to plot the genera of Aves in a stratiographic plot\n",
    "\n",
    "import library for stratiogrpahy\n",
    "xx = Genera\n",
    "yy = Geolocial time period (range)\n",
    "plot xx and yy with legend \n"
   ]
  },
  {
   "cell_type": "code",
   "execution_count": null,
   "metadata": {
    "collapsed": true
   },
   "outputs": [],
   "source": []
  },
  {
   "cell_type": "code",
   "execution_count": null,
   "metadata": {
    "collapsed": true
   },
   "outputs": [],
   "source": []
  }
 ],
 "metadata": {
  "anaconda-cloud": {},
  "kernelspec": {
   "display_name": "Python [default]",
   "language": "python",
   "name": "python3"
  },
  "language_info": {
   "codemirror_mode": {
    "name": "ipython",
    "version": 3
   },
   "file_extension": ".py",
   "mimetype": "text/x-python",
   "name": "python",
   "nbconvert_exporter": "python",
   "pygments_lexer": "ipython3",
   "version": "3.5.2"
  }
 },
 "nbformat": 4,
 "nbformat_minor": 2
}
