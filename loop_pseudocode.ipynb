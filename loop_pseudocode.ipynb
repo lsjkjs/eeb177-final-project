{
 "cells": [
  {
   "cell_type": "code",
   "execution_count": null,
   "metadata": {
    "collapsed": true
   },
   "outputs": [],
   "source": [
    "#when using R to plot the genera of Aves in a stratiographic plot\n",
    "\n",
    "xx = list of unique genera\n",
    "for genera in xx:\n",
    "    find the range of its existence in geolocial time\n",
    "    find a picture of the genera\n",
    "use this range data to plot the stratiography and input a picture of each genera in the graph"
   ]
  }
 ],
 "metadata": {
  "anaconda-cloud": {},
  "kernelspec": {
   "display_name": "Python [default]",
   "language": "python",
   "name": "python3"
  },
  "language_info": {
   "codemirror_mode": {
    "name": "ipython",
    "version": 3
   },
   "file_extension": ".py",
   "mimetype": "text/x-python",
   "name": "python",
   "nbconvert_exporter": "python",
   "pygments_lexer": "ipython3",
   "version": "3.5.2"
  }
 },
 "nbformat": 4,
 "nbformat_minor": 2
}
