{
 "cells": [
  {
   "cell_type": "markdown",
   "metadata": {},
   "source": [
    "# **Study of Aves Species through Geologic Time**\n",
    "\n",
    "**Jin Sun Kim**\n",
    "\n",
    "\n",
    "\n",
    "**This study investigates the fossil records of the clades Aves and investigates two species with the longest ranges between the first and last occurrence. Contrary to our expectations, these two sepecies were narrowly ranged location-wise.**\n"
   ]
  },
  {
   "cell_type": "markdown",
   "metadata": {},
   "source": [
    "![Aves](Aves.jpeg)\n"
   ]
  },
  {
   "cell_type": "markdown",
   "metadata": {},
   "source": [
    "# **Introduction**\n",
    "\n",
    "\n",
    "It is known that birds have undergone a strong increase in diversification since from about 50 million years ago. Jetz et al provides data of how the net diversification rate as well as the speciation rate of Aves have increased from 50 million years ago to at least 5 million years ago. The Aves have diversified to 9993 extant species today. This modern diversification of Aves are dispersed throughout the avian tree as well as across geographic space (Jetz et al, 2012). Hence, many of the Aves species we see today are relatively young. The question of out interest is then \"What are some species that have lived in Earth for a very long time?\" We seek to investigate what these species were and where they are located. \n",
    "\n",
    "Nuclear DNA sequences as well as morphological chracteristics are widely used today to study the evolutionary history of the Aves. For example, Moyle et al utilizes moleuclar and morphological data to study the Eurylaimides, the Old World bird group that is now distributed pantropically(Moyle et al, 2006). Cracraft's attempt to phylogentically classify the recent birds of the world also utilizes genetic and morphological data (Cracraft, 1981). However, in our study, we utilize a distinct approach that utilizes the occurrence data of fossil records to study the Aves species through geologic time. Although fossil records have many limitations, we seek to gain insight on some identity and location of the species of the Aves that have lived in Earth for the longest years. Since these species have lived in Earth for many years, we hypothesize that they are prominent species that are sread geographically around the globe. \n",
    "\n"
   ]
  },
  {
   "cell_type": "markdown",
   "metadata": {},
   "source": [
    "# Methods and Results"
   ]
  },
  {
   "cell_type": "markdown",
   "metadata": {
    "collapsed": true
   },
   "source": [
    "## **Description**\n",
    "\n",
    "The data of the Aves fossil records was retreived from the pbdb website: https://paleobiodb.org/classic/displayDownloadGenerator\n",
    "\n",
    "\n",
    "First, we sought to gain more insight in our pbdb data containing the fossil record of the clade Aves. The data contained fossil records that were classified as species, genus, class, family, or order. In order to find out how many species, genus, class, family, and order were represented in our dataset, we defined and utilized a function as shown below.  "
   ]
  },
  {
   "cell_type": "code",
   "execution_count": 18,
   "metadata": {
    "collapsed": false
   },
   "outputs": [],
   "source": [
    "# Function 1.\n",
    "# The function Lists_rank makes a list of the unique species, genus, class, family, or order\n",
    "\n",
    "def Lists_rank(rank_name, list_name): #puts the rank and the name of the list as arguments\n",
    "    rank_name = rank_name.lower() \n",
    "    file = open(\"A_formatted.csv\", \"r\") #open file\n",
    "    all_records = file.readlines() #read each line\n",
    "    for line in all_records:\n",
    "        record_elements = line.split(\",\") #split elements by delimiter comma\n",
    "        if record_elements[6].lower() == rank_name: #if the element in column 7 is the rank of interest, append to list\n",
    "            list_name.append(record_elements[5])\n",
    "        \n"
   ]
  },
  {
   "cell_type": "code",
   "execution_count": 19,
   "metadata": {
    "collapsed": false
   },
   "outputs": [
    {
     "name": "stdout",
     "output_type": "stream",
     "text": [
      "3232\n",
      "1789\n",
      "433\n",
      "431\n"
     ]
    }
   ],
   "source": [
    "# Utilizing the function above, find the number of unique species, genus, class, and family\n",
    "\n",
    "Aves_species = [] #define list\n",
    "Lists_rank('\"species\"', Aves_species) #put all species in a list\n",
    "print(len(Aves_species)) #find length of species list\n",
    "\n",
    "Aves_genus = [] #define list\n",
    "Lists_rank('\"genus\"', Aves_genus) #put all genus in a list\n",
    "print(len(Aves_genus)) #find length of genus list\n",
    "\n",
    "Aves_class = [] #define list\n",
    "Lists_rank('\"class\"', Aves_class) #put all class in a list\n",
    "print(len(Aves_class)) #find length of class list\n",
    "\n",
    "Aves_family = [] #define list\n",
    "Lists_rank('\"family\"', Aves_family) #put all family in a list\n",
    "print(len(Aves_family)) #find length of family list"
   ]
  },
  {
   "cell_type": "markdown",
   "metadata": {},
   "source": [
    "**There are 3232 species occurrences, 1789 genus occurrences, 433 class occurrences, and 431 family occurrences represented in this fossil records dataset of Aves.**"
   ]
  },
  {
   "cell_type": "markdown",
   "metadata": {},
   "source": [
    "## Aves Species through Geologic Time\n",
    "\n",
    "The range of the age was utilized to plot the occurrences of each Aves species through time. Since the data included multiple observations of the same species at different time intervals, we first found the first and last appearances of each species in the record. The first and last appearances were found as minimum ages and maximum ages.\n",
    "\n",
    "\n",
    "The following code was utilized to output the genus, speices, minage, maxage information of each species from the pbdb datafile into an output file:"
   ]
  },
  {
   "cell_type": "code",
   "execution_count": 6,
   "metadata": {
    "collapsed": true
   },
   "outputs": [],
   "source": [
    "#First, find the age of each species occurrence \n",
    "\n",
    "#open the Aves pbdb data file    \n",
    "infile = \"A_formatted.csv\"\n",
    "with open(infile, \"r\") as ff:\n",
    "    Aves_recs = ff.readlines()\n",
    "\n",
    "#use defaultdict\n",
    "from collections import defaultdict\n",
    "\n",
    "Aves_ranges = defaultdict(list) #dict is initialized as a list\n",
    "\n",
    "#make a dictionary\n",
    "for line in Aves_recs:\n",
    "    record_elements = line.split(\",\") #split elements by delimiter comma\n",
    "    if record_elements[6].lower() == '\"species\"': #if the record is species\n",
    "        species = line.split(\",\")[5][1:-1] #removes the quotes\n",
    "        minage = line.split(\",\")[10][1:-1] #removes the quotes\n",
    "        maxage = line.split(\",\")[11][1:-1] #removes the quotes\n",
    "        mean_age = (float(minage) + float(maxage))/2\n",
    "        Aves_ranges[species].append(mean_age) #add species as key and mean ages as elements to the list of ages"
   ]
  },
  {
   "cell_type": "code",
   "execution_count": 7,
   "metadata": {
    "collapsed": true
   },
   "outputs": [],
   "source": [
    "output = open(\"output_Aves.csv\", \"w\")\n",
    "\n",
    "#output the oldest and youngest ages of fossils for each species in species_ranges\n",
    "for key in Aves_ranges:\n",
    "    ages = Aves_ranges[key]\n",
    "    minage = min(ages)\n",
    "    maxage = max(ages)\n",
    "    genus = key.split(\" \")[0]\n",
    "    outline = \"{}, {}, {}, {}\\n\".format(genus, key, minage, maxage) #output the genus, speices, minage, maxage information in output file\n",
    "    output.write(outline)\n"
   ]
  },
  {
   "cell_type": "markdown",
   "metadata": {},
   "source": [
    "The output_Aves.csv file was then utilzied to plot the range age of each Aves specis through geologic time in million years ago (Ma). The code utilized in R can be found in this link:\n",
    "\n",
    "\n",
    "https://github.com/lsjkjs/eeb177-final-project/blob/master/plot_Aves.md\n",
    "\n"
   ]
  },
  {
   "cell_type": "markdown",
   "metadata": {},
   "source": [
    "![**Figure 1.** Plot of the range age of all Aves species.](Aves_species_ranges.png)\n",
    "\n"
   ]
  },
  {
   "cell_type": "markdown",
   "metadata": {},
   "source": [
    "The above plot of the Aves Fossil Occurrences demonstrate that there are many more species in the first 10 Ma ago than any time. It can also be seen that some of the species age ranges are very short while others are very long. There are two very visible long species ranges. In the next section, we seek to identify these two species.\n"
   ]
  },
  {
   "cell_type": "markdown",
   "metadata": {},
   "source": [
    "## Finding the Two Species with the Longest Ranges\n",
    "\n",
    "A second function was defined and utilized to find the two Aves species with the longest ranges.\n"
   ]
  },
  {
   "cell_type": "code",
   "execution_count": 8,
   "metadata": {
    "collapsed": true
   },
   "outputs": [],
   "source": [
    "# Function 2.\n",
    "# This function returns a dictionary with the key as species and the value as its range of age \n",
    "\n",
    "def find_range(dict_name, dict_range):\n",
    "    for key in dict_name.keys():\n",
    "        ages = dict_name[key]\n",
    "        range1 = max(ages)-min(ages) #find range of age\n",
    "        dict_range[key] = range1 #for species as key, put range as value in dictionary\n"
   ]
  },
  {
   "cell_type": "code",
   "execution_count": 9,
   "metadata": {
    "collapsed": false
   },
   "outputs": [
    {
     "name": "stdout",
     "output_type": "stream",
     "text": [
      "[('Uhangrichnus chuni', 34.900000000000006), ('Pelecanus tirarensis', 19.99815)]\n"
     ]
    }
   ],
   "source": [
    "# Using the function above, put the range age of each Aves species in a dictionary\n",
    "\n",
    "Aves_range_age = {} #define dictionary \n",
    "find_range(Aves_ranges, Aves_range_age) #put in the dictionary with  Aves species as key and the range age of the species as value\n",
    "\n",
    "# sort this dictionary from largest range to smallest range\n",
    "items = [(v, k) for k, v in Aves_range_age.items()] #switch key and value for sorting\n",
    "items.sort()\n",
    "items.reverse() #largest to smallest\n",
    "items = [(k, v) for v, k in items] #swith key and value again\n",
    "print(items[:2]) #print the first two items"
   ]
  },
  {
   "cell_type": "markdown",
   "metadata": {},
   "source": [
    "**The two species with the largest ranges are Uhangrichnus chuni and Pelecanus tirarensis**\n",
    "\n",
    "Uhangrichnus chuni has the largest age range with 34.9 years. Pelecanus tirarensis has the second largest age range with 20.0 years.\n",
    "\n",
    "\n",
    "To study the approximate age of these species, a third funciton was defined and utilized to find the average age of each species. \n",
    "\n"
   ]
  },
  {
   "cell_type": "code",
   "execution_count": 10,
   "metadata": {
    "collapsed": true
   },
   "outputs": [],
   "source": [
    "# Function 3.\n",
    "# This function inputs the Aves name and outputs its geologic time data as the average of max and min ma\n",
    "\n",
    "def geotime_ma(Ave_name):\n",
    "    Ave_name = Ave_name.lower()\n",
    "    file = open(\"A_formatted.csv\", \"r\") #open file\n",
    "    all_records = file.readlines()\n",
    "    for line in all_records:\n",
    "        record_elements = line.split(\",\") #split elements by the delimiter\n",
    "        if record_elements[5].lower() == Ave_name: #if the element is the Ave of interes, find max and min ma\n",
    "            maxage = record_elements[10][1:-1]\n",
    "            minage = record_elements[11][1:-1]\n",
    "            break\n",
    "    average = ((float(maxage)+float(minage))/2) #find and return the average ma\n",
    "    return average\n"
   ]
  },
  {
   "cell_type": "code",
   "execution_count": 11,
   "metadata": {
    "collapsed": false
   },
   "outputs": [
    {
     "name": "stdout",
     "output_type": "stream",
     "text": [
      "106.75\n",
      "20.003999999999998\n"
     ]
    }
   ],
   "source": [
    "#Utilizng the function above, print the average ages of the species Uhangrichnus chuni and Pelecanus tirarensis\n",
    "\n",
    "print(geotime_ma('\"Uhangrichnus chuni\"'))\n",
    "print(geotime_ma('\"Pelecanus tirarensis\"'))"
   ]
  },
  {
   "cell_type": "markdown",
   "metadata": {},
   "source": [
    "**Uhangrichnus chuni is about 106.75 million years old and Pelecanus tirarensis is about 20.0 years old.**\n"
   ]
  },
  {
   "cell_type": "markdown",
   "metadata": {},
   "source": [
    "## Mapping the Fossil Occurrences\n",
    "\n",
    "The pbdb data was again utilized to extract the species, longitude, and latitude information of each of the two species' fossil records. The location data for Uhangrichnus chuni and Pelecanus tirarensis were each outputted into separate csv files. "
   ]
  },
  {
   "cell_type": "code",
   "execution_count": 12,
   "metadata": {
    "collapsed": true
   },
   "outputs": [],
   "source": [
    "# First output a csv file with the longitude and latitude data points for Uhangrichnus chuni\n",
    "\n",
    "\n",
    "#open the Aves location pbdb data file    \n",
    "infile = \"A_location.csv\"\n",
    "with open(infile, \"r\") as fff:\n",
    "    Aves_loc = fff.readlines()\n",
    "\n",
    "output = open(\"chuni_location.csv\", \"w\")\n",
    "    #output longitude and latitude data for uhangrichnus chuni\n",
    "\n",
    "for line in Aves_loc:\n",
    "    record_elements = line.split(\",\") #split elements by delimiter comma\n",
    "    if record_elements[5].lower() == '\"uhangrichnus chuni\"': #if the record is uhangrichnus chuni\n",
    "        species = line.split('\",\"')[5] #removes the quotes/ define species\n",
    "        longitude = line.split('\",\"')[13] #removes the quotes/ define longitude\n",
    "        latitude = line.split('\",\"')[14] #removes the quotes/ define latitude\n",
    "        outline = \"{}, {}, {}\\n\".format(species, longitude, latitude) #output the species, longitude, latitude data\n",
    "        output.write(outline)\n"
   ]
  },
  {
   "cell_type": "code",
   "execution_count": 13,
   "metadata": {
    "collapsed": true
   },
   "outputs": [],
   "source": [
    "# Do the same for Pelecanus tirarensis\n",
    "\n",
    "\n",
    "#open the Aves location pbdb data file    \n",
    "infile = \"A_location.csv\"\n",
    "with open(infile, \"r\") as fff:\n",
    "    Aves_loc = fff.readlines()\n",
    "\n",
    "output = open(\"tirarensis_location.csv\", \"w\")\n",
    "    #output longitude and latitude data for pelecanus tirarensis\n",
    "\n",
    "for line in Aves_loc:\n",
    "    record_elements = line.split(\",\") #split elements by delimiter comma\n",
    "    if record_elements[5].lower() == '\"pelecanus tirarensis\"': #if the record is pelecanus tirarensis\n",
    "        species = line.split('\",\"')[5][1:-1] #removes the quotes/ define species\n",
    "        longitude = line.split('\",\"')[13][1:-1] #removes the quotes/ define longitude\n",
    "        latitude = line.split('\",\"')[14][1:-1] #removes the quotes/ define latitude\n",
    "        outline = \"{}, {}, {}\\n\".format(species, longitude, latitude) #output the species, longitude, latitude data\n",
    "        output.write(outline)\n"
   ]
  },
  {
   "cell_type": "markdown",
   "metadata": {},
   "source": [
    "## Mapping the Fossil Occurrences\n",
    "\n",
    "\n",
    "The chuni_location.csv and tirarensis_location.csv were then utilized to plot the locations of the fossil records of Uhangrichnus chuni and Pelecanus tirarensis. The code utilized in R can be found in this link:\n",
    "\n",
    "\n",
    "\n",
    "https://github.com/lsjkjs/eeb177-final-project/blob/master/plot_Aves_location.md\n",
    "\n"
   ]
  },
  {
   "cell_type": "markdown",
   "metadata": {},
   "source": [
    "![**Figure 2.** The map depicts the locations of Uhangrichnus chuni and Pelecanus tirarensis. Uhangrichnus chuni is shown in red. Pelecanus tirarensis is shown in blue.](Both_species_location.png) \n",
    "\n"
   ]
  },
  {
   "cell_type": "markdown",
   "metadata": {},
   "source": [
    "![**Figure 3.** The map zooms into the location of Uhangrichnus chuni. All three fossil records are located in South Korea.](chuni_location.png)\n",
    "\n"
   ]
  },
  {
   "cell_type": "markdown",
   "metadata": {},
   "source": [
    "![**Figure 4.** The map zooms into the location of Pelecanus tirarensis. Pelecanus tirarensis is shown in blue.](tirarensis_location.png)\n",
    "\n"
   ]
  },
  {
   "cell_type": "markdown",
   "metadata": {},
   "source": [
    "# Discussion\n",
    "\n",
    "The Aves Fossil Occurrence plot depicted in Figure 1 clearly demonstrates that there are many more species in the more recent years than the more ancient years. Especially from about 20 million years ago, there is a significant increase in the number of species as well as the number of genera. Our data analysis is hence consistent with the knowledge that Aves diversification and specification has rapidly increased over the past 50 million years (Jetz et al, 2012). In addition to the vast increase in species at the left side of the plot, we also observe that some species have very short range of ages, while others have distinctively long ranges. We find that Uhangrichnus chuni and Pelecanus tirarensis are the two species with the longest ranges, 34.9 million years and 20.0 million years respectively. \n",
    "\n",
    "Uhangrichnus chuni are approximately 106.75 million years old, calculated by the average of first and last fossil record occurrences. As shown in Figure 3, all the fossil records are shown in South Korea. Yang et al published about their discovery of Uhangrichnus chuni, birds that have webbed feet. These birds are from the Late Cretaceous, which dates back to 100.5 to 66 million years ago (Yang et al, 2008). Hence, our calculation that they are about 106.75 million years old is consistent with the known information. However, there is not much additional information about the Uhangrichnus chuni. Although they have a very long range of age, their narrow geographical distribution suggests the possbility that these species were not prominent during their era.\n",
    "\n",
    "Pelecanus tirarensis are approximately 20.0 million years old, calculated by the average of first and last fossil record occurrences. As shown in Figure 4, all the fossil records are shown in Saudi Arabia. Similar to the Uhangrichnus chuni, the Pelecanus tirarensis also show a very narrow geographical distribution. However, Stidham et al's paper discusses that Pelecanus tirarensis are species of the New Zealand and Australia (Stidham et al, 2014). Hence, this indicates that our fossil data only contained the fossil records of Pelecanus tirarensis from Saudi Arabia, and lacked fossils from other regions. This highlights the limitations of fossil record data in illuminating the geographcial distribution of Aves species. Although there are many information that can be extracted from fossil records, our study again points that we should not rely solely on fossil record data and seek numerous other resources to obtain a more complete picture. \n",
    "\n"
   ]
  },
  {
   "cell_type": "markdown",
   "metadata": {},
   "source": [
    "# References\n",
    "\n",
    "1. Cracraft, J. (1981). Toward a Phylogenetic Classification of the Recent Birds of the World (Class Aves). The Auk, 98(4), 681-714. Retrieved from http://www.jstor.org/stable/4085891\n",
    "\n",
    "2. Jetz, W., Thomas, G.H., Joy, J.B., Hartmann, K., and Mooers, A.O. (2012). The global diversity of birds in space and time. Nature, 491, 444-448. Retrieved from http://www.nature.com/nature/journal/v491/n7424/abs/nature11631.html\n",
    "\n",
    "3. Moyle, R.G., Chesser R.T., Prum, R.O., Schikler, P., and Cracraft J. (2006). Phylogeny and Evolutionary History of Old World Suboscine Birds (Aves: Eurylaimides). American Museum of Natural History, 3544, 1-22. Retrieved from http://www.bioone.org/doi/abs/10.1206/0003-0082(2006)3544%5B1:PAEHOO%5D2.0.CO;2\n",
    "\n",
    "4. Stidham T.A., Krishan K., Singh, B., Ghosh, A., and Patnaik, R. (2014). A Pelican Tarsometatarsus (Aves: Pelecanidae) from the Latest Pliocene Siwaliks of India. Plos One. Retrieved from http://journals.plos.org/plosone/article?id=10.1371/journal.pone.0111210\n",
    "\n",
    "5. Yang, S., Lockely, M.G., Greben, R., Erickson B.R., and Lim, S. (2008). Flamingo and duck‐like bird tracks from the Late Cretaceous and early Tertiary: Evidence and implication. Ichnos, 4, 21-34. Retrieved from http://www.tandfonline.com/doi/abs/10.1080/10420949509380111"
   ]
  },
  {
   "cell_type": "code",
   "execution_count": null,
   "metadata": {
    "collapsed": true
   },
   "outputs": [],
   "source": []
  }
 ],
 "metadata": {
  "anaconda-cloud": {},
  "kernelspec": {
   "display_name": "Python [default]",
   "language": "python",
   "name": "python3"
  },
  "language_info": {
   "codemirror_mode": {
    "name": "ipython",
    "version": 3
   },
   "file_extension": ".py",
   "mimetype": "text/x-python",
   "name": "python",
   "nbconvert_exporter": "python",
   "pygments_lexer": "ipython3",
   "version": "3.5.2"
  }
 },
 "nbformat": 4,
 "nbformat_minor": 2
}
